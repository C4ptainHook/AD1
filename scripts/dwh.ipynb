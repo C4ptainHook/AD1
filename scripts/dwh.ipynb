{
 "cells": [
  {
   "cell_type": "markdown",
   "metadata": {},
   "source": [
    "Imports section:"
   ]
  },
  {
   "cell_type": "code",
   "execution_count": 252,
   "metadata": {},
   "outputs": [],
   "source": [
    "import pandas as pd\n",
    "import os\n",
    "import numpy as np\n",
    "from sqlalchemy import create_engine,text\n",
    "import numpy as np"
   ]
  },
  {
   "cell_type": "code",
   "execution_count": 253,
   "metadata": {},
   "outputs": [],
   "source": [
    "db_username = os.getenv(\"DB_USERNAME\")\n",
    "db_password = os.getenv(\"DB_PASSWORD\")\n",
    "db_host = os.getenv(\"DB_HOST\")\n",
    "db_port = os.getenv(\"DB_PORT\")\n",
    "db_name = os.getenv(\"DB_NAME\")\n",
    "\n",
    "engine = create_engine(\n",
    "    f\"postgresql://{db_username}:{db_password}@{db_host}:{db_port}/{db_name}\"\n",
    ")\n",
    "\n",
    "table_names = ['all_steam', 'genres', 'mdn_play_time','metacritic_review','play_time_by_player','regions','time_to_beat']"
   ]
  },
  {
   "cell_type": "markdown",
   "metadata": {},
   "source": [
    "Creates Data Warehouse during initial load:"
   ]
  },
  {
   "cell_type": "code",
   "execution_count": 254,
   "metadata": {},
   "outputs": [],
   "source": [
    "creation_query = f\"\"\"CREATE SCHEMA IF NOT EXISTS dwh;\n",
    "DO\n",
    "$body$\n",
    "BEGIN\n",
    "-- ORANGE BLOCK\n",
    "CREATE TABLE IF NOT EXISTS dwh.dim_os(\n",
    "\tid SERIAL PRIMARY KEY,\n",
    "\tname VARCHAR(255) UNIQUE\n",
    ");\n",
    "CREATE TABLE IF NOT EXISTS dwh.dim_score_source(\n",
    "\tid SERIAL PRIMARY KEY,\n",
    "\tname VARCHAR(255) UNIQUE\n",
    ");\n",
    "CREATE TABLE IF NOT EXISTS dwh.dim_platform(\n",
    "\tid SERIAL PRIMARY KEY,\n",
    "\tname VARCHAR(255) UNIQUE\n",
    ");\n",
    "-- LIGHT BLUE BLOCK\n",
    "CREATE TABLE IF NOT EXISTS dwh.dim_game(\n",
    "\tid BIGSERIAL PRIMARY KEY,\n",
    "\tname VARCHAR(255) UNIQUE\n",
    ");\n",
    "CREATE TABLE IF NOT EXISTS dwh.dim_date(\n",
    "\tid BIGINT PRIMARY KEY,\n",
    "\tyear SMALLINT,\n",
    "\tmonth SMALLINT,\n",
    "\tday SMALLINT\n",
    ");\n",
    "--GREEN BLOCK\n",
    "CREATE TABLE IF NOT EXISTS dwh.dim_region(\n",
    "\tid SERIAL PRIMARY KEY,\n",
    "\tcurrent_name VARCHAR(255) UNIQUE, \n",
    "\tprevious_name VARCHAR(255)\n",
    ");\n",
    "--VIOLET BLOCK \n",
    "CREATE TABLE IF NOT EXISTS dwh.dim_technologies(\n",
    "\tid BIGSERIAL PRIMARY KEY,\n",
    " \tname VARCHAR(255) UNIQUE,\n",
    "\ttype VARCHAR(255)\n",
    ");\n",
    "CREATE TABLE IF NOT EXISTS dwh.dim_publisher(\n",
    "\tid BIGSERIAL PRIMARY KEY,\n",
    " \tname VARCHAR(255) UNIQUE\n",
    ");\n",
    "CREATE TABLE IF NOT EXISTS dwh.dim_genre(\n",
    "\tid SERIAL PRIMARY KEY,\n",
    " \tname VARCHAR(255) UNIQUE\n",
    ");\n",
    "CREATE TABLE IF NOT EXISTS dwh.dim_developer(\n",
    "\tid BIGSERIAL PRIMARY KEY,\n",
    " \tname VARCHAR(255) UNIQUE\n",
    ");\n",
    "CREATE TABLE IF NOT EXISTS dwh.dim_difficulty(\n",
    "\tid SERIAL PRIMARY KEY,\n",
    " \tname VARCHAR(255) UNIQUE\n",
    ");\n",
    "--FACT BLOCK\n",
    "CREATE TABLE IF NOT EXISTS dwh.fact_players(\n",
    "\tid BIGSERIAL PRIMARY KEY,\n",
    "\tgame_id INT REFERENCES dwh.dim_game(id),\n",
    "\tregion_id INT REFERENCES dwh.dim_region(id),\n",
    "\tplayers NUMERIC(7,2)\n",
    ");\n",
    "CREATE TABLE IF NOT EXISTS dwh.fact_score(\n",
    "\tid BIGSERIAL PRIMARY KEY,\n",
    "\tgame_id BIGINT REFERENCES dwh.dim_game(id),\n",
    "\tscore_source_id INT REFERENCES dwh.dim_score_source(id),\n",
    "\tscore NUMERIC(5,2) CHECK (score <= 100.00)\n",
    ");\n",
    "CREATE TABLE IF NOT EXISTS dwh.fact_gameplay(\n",
    "\tid BIGSERIAL PRIMARY KEY,\n",
    "\tgame_id BIGINT REFERENCES dwh.dim_game(id),\n",
    "\trelease_date BIGINT REFERENCES dwh.dim_date(id),\n",
    "\tachievements_count INT, \n",
    "\tavg_play_time NUMERIC(7,2),\n",
    "\tpublisher_id BIGINT REFERENCES dwh.dim_publisher(id),\n",
    "\tmdn_play_time NUMERIC(7,2),\n",
    "\tdifficulty_id INT REFERENCES dwh.dim_difficulty(id),\n",
    "\thltb_single NUMERIC(7,2),\n",
    "\thltb_complete NUMERIC(7,2),\n",
    "\tpeak_players INT CHECK (peak_players >= 0),\n",
    "\tpeak_date BIGINT REFERENCES dwh.dim_date(id),\n",
    "\towners INT CHECK (owners >= 0)\n",
    ");\n",
    "--GRAY BLOCK\n",
    "CREATE TABLE IF NOT EXISTS dwh.scr_os(\n",
    "\tgame_id BIGINT REFERENCES dwh.dim_game(id),\n",
    "\tos_id INT REFERENCES dwh.dim_os(id),\n",
    "\tCONSTRAINT scr_os_pkey PRIMARY KEY(game_id,os_id)\n",
    ");\n",
    "CREATE TABLE IF NOT EXISTS dwh.scr_pltf(\n",
    "\tgame_id BIGINT REFERENCES dwh.dim_game(id),\n",
    "\tplatform_id INT REFERENCES dwh.dim_platform(id),\n",
    "\tCONSTRAINT scr_pltf_pkey PRIMARY KEY(game_id,platform_id)\n",
    ");\n",
    "CREATE TABLE IF NOT EXISTS dwh.gmp_genr(\n",
    "\tgame_id BIGINT REFERENCES dwh.dim_game(id),\n",
    "\tgenre_id INT REFERENCES dwh.dim_genre(id),\n",
    "\tCONSTRAINT gmp_genr_pkey PRIMARY KEY(game_id,genre_id)\n",
    ");\n",
    "CREATE TABLE IF NOT EXISTS dwh.gmp_dev(\n",
    "\tgame_id BIGINT REFERENCES dwh.dim_game(id),\n",
    "\tdeveloper_id BIGINT REFERENCES dwh.dim_developer(id),\n",
    "\tCONSTRAINT gmp_dev_pkey PRIMARY KEY(game_id,developer_id)\n",
    ");\n",
    "END\n",
    "$body$\n",
    "LANGUAGE plpgsql\"\"\"\n",
    "\n",
    "with engine.connect() as connection:\n",
    "    connection.execute(text(creation_query))\n",
    "    connection.commit()"
   ]
  },
  {
   "cell_type": "markdown",
   "metadata": {},
   "source": [
    "Load game dimension:"
   ]
  },
  {
   "cell_type": "code",
   "execution_count": 255,
   "metadata": {},
   "outputs": [],
   "source": [
    "query = f\"\"\"\n",
    "INSERT INTO dwh.dim_game (name)\n",
    "SELECT DISTINCT game FROM (\n",
    "    SELECT game FROM stage.all_steam\n",
    "    UNION\n",
    "    SELECT game FROM stage.genres\n",
    "    UNION\n",
    "    SELECT game FROM stage.mdn_play_time\n",
    "    UNION\n",
    "    SELECT game FROM stage.metacritic_review\n",
    "    UNION\n",
    "    SELECT game FROM stage.play_time_by_player\n",
    "    UNION\n",
    "    SELECT game FROM stage.regions\n",
    "    UNION\n",
    "    SELECT game FROM stage.time_to_beat\n",
    ") AS games\n",
    "ON CONFLICT (name) DO NOTHING\n",
    "\"\"\"\n",
    "\n",
    "with engine.connect() as connection:\n",
    "    connection.execute(text(query))\n",
    "    connection.commit()"
   ]
  },
  {
   "cell_type": "markdown",
   "metadata": {},
   "source": [
    "Load operational system (os) dimension:"
   ]
  },
  {
   "cell_type": "code",
   "execution_count": 256,
   "metadata": {},
   "outputs": [],
   "source": [
    "query = f\"\"\"\n",
    "INSERT INTO dwh.dim_os (name)\n",
    "SELECT DISTINCT os FROM (\n",
    "    SELECT os FROM stage.mdn_play_time\n",
    "    UNION\n",
    "    SELECT os FROM stage.time_to_beat\n",
    ") AS games\n",
    "ON CONFLICT (name) DO NOTHING\n",
    "\"\"\"\n",
    "\n",
    "with engine.connect() as connection:\n",
    "    connection.execute(text(query))\n",
    "    connection.commit()"
   ]
  },
  {
   "cell_type": "markdown",
   "metadata": {},
   "source": [
    "Load score_source dimension:"
   ]
  },
  {
   "cell_type": "code",
   "execution_count": 257,
   "metadata": {},
   "outputs": [],
   "source": [
    "query = \"\"\"\n",
    "SELECT table_name, column_name\n",
    "FROM information_schema.columns\n",
    "WHERE column_name LIKE '%score%' \n",
    "OR column_name LIKE '%rating%' \n",
    "AND table_schema = 'stage'\n",
    "\"\"\"\n",
    "\n",
    "with engine.connect() as connection:\n",
    "    result = connection.execute(text(query))\n",
    "    columns = result.fetchall()\n",
    "\n",
    "for table_name, column_name in columns:\n",
    "\n",
    "    if '_uscore' in column_name:\n",
    "        source = column_name.split('_uscore')[0]\n",
    "    elif 'score' in column_name:\n",
    "        source = column_name.split('score')[0]\n",
    "    elif '_rating' in column_name:\n",
    "        source = column_name.split('_rating')[0]\n",
    "    elif 'rating' in column_name:\n",
    "        source = 'steam'\n",
    "    else:\n",
    "        continue\n",
    "  \n",
    "    if source.strip() == '':\n",
    "            continue\n",
    "    \n",
    "    query = f\"\"\"\n",
    "    INSERT INTO dwh.dim_score_source (name)\n",
    "    VALUES ('{source}')\n",
    "    ON CONFLICT DO NOTHING\n",
    "    \"\"\"\n",
    "\n",
    "    with engine.connect() as connection:\n",
    "        result = connection.execute(text(query))\n",
    "        connection.commit()"
   ]
  },
  {
   "cell_type": "markdown",
   "metadata": {},
   "source": [
    "Load region dimension:"
   ]
  },
  {
   "cell_type": "code",
   "execution_count": 258,
   "metadata": {},
   "outputs": [],
   "source": [
    "query = \"\"\"\n",
    "SELECT table_name, column_name\n",
    "FROM information_schema.columns\n",
    "WHERE column_name LIKE '%players%' \n",
    "AND table_schema = 'stage'\n",
    "\"\"\"\n",
    "\n",
    "with engine.connect() as connection:\n",
    "    result = connection.execute(text(query))\n",
    "    columns = result.fetchall()\n",
    "\n",
    "for table_name, column_name in columns:\n",
    "    source = column_name.split('_players')[0]\n",
    "\n",
    "    query = f\"\"\"\n",
    "    INSERT INTO dwh.dim_region (current_name)\n",
    "    VALUES ('{source}')\n",
    "    ON CONFLICT DO NOTHING\n",
    "    \"\"\"\n",
    "\n",
    "    with engine.connect() as connection:\n",
    "        result = connection.execute(text(query))\n",
    "        connection.commit()\n",
    "\n",
    " "
   ]
  },
  {
   "cell_type": "markdown",
   "metadata": {},
   "source": [
    "Load publisher dimension:"
   ]
  },
  {
   "cell_type": "code",
   "execution_count": 259,
   "metadata": {},
   "outputs": [],
   "source": [
    "query = f\"\"\"\n",
    "INSERT INTO dwh.dim_publisher (name)\n",
    "SELECT DISTINCT publisher FROM (\n",
    "    SELECT publisher FROM stage.mdn_play_time WHERE publisher IS NOT NULL\n",
    "    UNION\n",
    "    SELECT publisher FROM stage.all_steam WHERE publisher IS NOT NULL\n",
    "    UNION\n",
    "    SELECT publisher FROM stage.regions WHERE publisher IS NOT NULL\n",
    "    UNION\n",
    "    SELECT publisher FROM stage.time_to_beat WHERE publisher IS NOT NULL\n",
    ") AS games\n",
    "ON CONFLICT (name) DO NOTHING\n",
    "\"\"\"\n",
    "\n",
    "with engine.connect() as connection:\n",
    "    connection.execute(text(query))\n",
    "    connection.commit()"
   ]
  },
  {
   "cell_type": "markdown",
   "metadata": {},
   "source": [
    "Load developer dimension:"
   ]
  },
  {
   "cell_type": "code",
   "execution_count": 260,
   "metadata": {},
   "outputs": [],
   "source": [
    "query = f\"\"\"\n",
    "INSERT INTO dwh.dim_genre (name)\n",
    "SELECT DISTINCT genre FROM (\n",
    "    SELECT genre FROM stage.genres WHERE genre IS NOT NULL\n",
    "    UNION\n",
    "    SELECT genre FROM stage.mdn_play_time WHERE genre IS NOT NULL\n",
    "    UNION\n",
    "    SELECT genre FROM stage.regions WHERE genre IS NOT NULL\n",
    ") AS games\n",
    "ON CONFLICT (name) DO NOTHING\n",
    "\"\"\"\n",
    "\n",
    "with engine.connect() as connection:\n",
    "    connection.execute(text(query))\n",
    "    connection.commit()"
   ]
  },
  {
   "cell_type": "markdown",
   "metadata": {},
   "source": [
    "Load genre dimension:"
   ]
  },
  {
   "cell_type": "code",
   "execution_count": 261,
   "metadata": {},
   "outputs": [],
   "source": [
    "query = f\"\"\"\n",
    "INSERT INTO dwh.dim_developer (name)\n",
    "SELECT DISTINCT developer FROM (\n",
    "    SELECT developer FROM stage.genres WHERE developer IS NOT NULL\n",
    "    UNION\n",
    "    SELECT developer FROM stage.mdn_play_time WHERE developer IS NOT NULL\n",
    "    UNION\n",
    "    SELECT developer FROM stage.all_steam WHERE developer IS NOT NULL\n",
    "    UNION\n",
    "    SELECT developer FROM stage.time_to_beat WHERE developer IS NOT NULL\n",
    ") AS games\n",
    "ON CONFLICT (name) DO NOTHING\n",
    "\"\"\"\n",
    "\n",
    "with engine.connect() as connection:\n",
    "    connection.execute(text(query))\n",
    "    connection.commit()"
   ]
  },
  {
   "cell_type": "markdown",
   "metadata": {},
   "source": [
    "Load difficulty dimension:"
   ]
  },
  {
   "cell_type": "code",
   "execution_count": 262,
   "metadata": {},
   "outputs": [],
   "source": [
    "query = f\"\"\"\n",
    "INSERT INTO dwh.dim_difficulty (name)\n",
    "SELECT DISTINCT gfq_difficulty FROM (\n",
    "    SELECT gfq_difficulty FROM stage.time_to_beat WHERE gfq_difficulty IS NOT NULL\n",
    ") AS games\n",
    "ON CONFLICT (name) DO NOTHING\n",
    "\"\"\"\n",
    "\n",
    "with engine.connect() as connection:\n",
    "    connection.execute(text(query))\n",
    "    connection.commit()"
   ]
  },
  {
   "cell_type": "markdown",
   "metadata": {},
   "source": [
    "Load date dimension:"
   ]
  },
  {
   "cell_type": "code",
   "execution_count": 263,
   "metadata": {},
   "outputs": [],
   "source": [
    "query = f\"\"\"\n",
    "SELECT DISTINCT date FROM (\n",
    "    SELECT release_date AS date FROM stage.genres WHERE release_date IS NOT NULL\n",
    "    UNION\n",
    "    SELECT release_date AS date FROM stage.mdn_play_time WHERE release_date IS NOT NULL\n",
    "    UNION\n",
    "    SELECT release_date AS date FROM stage.all_steam WHERE release_date IS NOT NULL\n",
    "    UNION\n",
    "    SELECT all_time_peak_date AS date FROM stage.all_steam WHERE all_time_peak_date IS NOT NULL\n",
    "    UNION\n",
    "    SELECT release_date AS date FROM stage.regions WHERE release_date IS NOT NULL\n",
    "    UNION\n",
    "    SELECT release_date AS date FROM stage.regions WHERE release_date IS NOT NULL\n",
    ") AS release_date\n",
    "\"\"\"\n",
    "\n",
    "df = pd.read_sql_query(query, engine)\n",
    "\n",
    "df['year'] = df['date'].dt.year\n",
    "df['month'] = df['date'].dt.month\n",
    "df['day'] = df['date'].dt.day\n",
    "df['id'] = df['year'].astype(str) + df['month'].astype(str).str.zfill(2) + df['day'].astype(str).str.zfill(2)\n",
    "df = df.drop(columns=['date'])\n",
    "\n",
    "with engine.connect() as connection:\n",
    "    query = text(\"\"\"\n",
    "        INSERT INTO dwh.dim_date (id, year, month, day)\n",
    "        VALUES (:id, :year, :month, :day)\n",
    "    \"\"\")\n",
    "    for index, row in df.iterrows():\n",
    "        connection.execute(query, {'id': row['id'], 'year': row['year'], 'month': row['month'], 'day': row['day']})\n",
    "    connection.commit()\n"
   ]
  },
  {
   "cell_type": "markdown",
   "metadata": {},
   "source": [
    "Load players fact:"
   ]
  },
  {
   "cell_type": "code",
   "execution_count": 264,
   "metadata": {},
   "outputs": [],
   "source": [
    "with engine.connect() as connection:\n",
    "    query = text(\"\"\"\n",
    "        INSERT INTO dwh.fact_players (game_id, region_id, players)\n",
    "        SELECT dg.id AS game_id, dr.id AS region_id,\n",
    "               CASE\n",
    "                   WHEN dr.current_name = 'na' THEN sr.na_players\n",
    "                   WHEN dr.current_name = 'eu' THEN sr.eu_players\n",
    "                   WHEN dr.current_name = 'jp' THEN sr.jp_players\n",
    "                   WHEN dr.current_name = 'other' THEN sr.other_players\n",
    "                   WHEN dr.current_name = 'global' THEN sr.global_players\n",
    "               END AS players\n",
    "        FROM stage.regions AS sr\n",
    "        JOIN dwh.dim_game AS dg ON dg.name = sr.game\n",
    "        JOIN dwh.dim_region AS dr ON dr.current_name IN ('na', 'eu', 'jp', 'other', 'global');\n",
    "    \"\"\")\n",
    "    connection.execute(query)\n",
    "    connection.commit()"
   ]
  },
  {
   "cell_type": "markdown",
   "metadata": {},
   "source": [
    "Load score fact:"
   ]
  },
  {
   "cell_type": "code",
   "execution_count": 266,
   "metadata": {},
   "outputs": [],
   "source": [
    "with engine.connect() as connection:\n",
    "    query = text(\"\"\"\n",
    "        INSERT INTO dwh.fact_score (game_id, score_source_id, score)\n",
    "SELECT DISTINCT ON (dg.id, ss.id)\n",
    "       dg.id AS game_id,\n",
    "       ss.id AS score_source_id,\n",
    "       CASE\n",
    "           WHEN ss.name = 'gfq' THEN ttb.gfq_rating\n",
    "           WHEN ss.name = 'igdb' THEN ttb.igdb_uscore\n",
    "           WHEN ss.name = 'meta' THEN mr.metascore\n",
    "           WHEN ss.name = 'steam' THEN als.rating\n",
    "       END AS score\n",
    "FROM stage.time_to_beat AS ttb\n",
    "JOIN dwh.dim_game AS dg ON dg.name = ttb.game\n",
    "JOIN stage.metacritic_review AS mr ON dg.name = mr.game\n",
    "JOIN stage.all_steam AS als ON dg.name = als.game                 \n",
    "JOIN dwh.dim_score_source AS ss ON ss.name IN ('steam','meta','gfq', 'igdb')\n",
    "ORDER BY dg.id, ss.id, score DESC;\n",
    "    \"\"\")\n",
    "    connection.execute(query)\n",
    "    connection.commit()"
   ]
  }
 ],
 "metadata": {
  "kernelspec": {
   "display_name": "Python 3",
   "language": "python",
   "name": "python3"
  },
  "language_info": {
   "codemirror_mode": {
    "name": "ipython",
    "version": 3
   },
   "file_extension": ".py",
   "mimetype": "text/x-python",
   "name": "python",
   "nbconvert_exporter": "python",
   "pygments_lexer": "ipython3",
   "version": "3.12.2"
  }
 },
 "nbformat": 4,
 "nbformat_minor": 2
}
